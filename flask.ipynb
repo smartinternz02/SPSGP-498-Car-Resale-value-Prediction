{
 "cells": [
  {
   "cell_type": "code",
   "execution_count": null,
   "metadata": {},
   "outputs": [],
   "source": [
    "import pandas as pd\n",
    "import numpy as np\n",
    "from flask import Flask,render_template,Response,request\n",
    "import pickle\n",
    "from sklearn.preprocessing import LabelEncoder\n",
    "import pickle\n",
    "app=Flask(__name__)\n",
    "filename='resale_model.sav'\n",
    "model_rand=pickle.load(open(filename,'rb'))\n",
    "\n",
    "@app.route('/')\n",
    "def index():\n",
    "    return render_template('resaleintro.html')\n",
    "@app.route('/predict')\n",
    "def predict():\n",
    "    return render_template('resalepredict.html')\n",
    "\n",
    "@app.route('/y_predict',methods=['GET','POST'])\n",
    "def y_predict():\n",
    "    regyear=int(request.form['regyear'])\n",
    "    powerps=float(request.form['powerps'])\n",
    "    kms=float(request.form['kms'])\n",
    "    regmonth=int(request.form.get('regmonth'))\n",
    "    gearbox=request.form['gearbox']\n",
    "    damage=request.form['dam']\n",
    "    model=request.form.get('modeltype')\n",
    "    brand=request.form.get('brand')\n",
    "    fuelType=request.form.get('fuel')\n",
    "    vehicletype=request.form.get('vehicletype')\n",
    "    new_row={'yearOfRegistration':regyear,'powerPS':powerps,'kilometer':kms,'monthOfRegistration':regmonth,'gearbox':gearbox,'notRepairedDamage':damage,\n",
    "            'model':model,'brand':brand,'fuelType':fuelType,'vehicleType':vehicletype}\n",
    "    print(new_row)\n",
    "    new_df=pd.DataFrame(columns=['vehicleType','yearOfRegistration','gearbox','powerPS','model','kilometer','monthOfRegistration','fuelType','notRepairedDamage'])\n",
    "    new_df=new_df.append(new_row,ignore_index=True)\n",
    "    labels=['gearbox','notRepairedDamage','model','brand','fuelType','vehicleType']\n",
    "    mapper={}\n",
    "    for i in labels:\n",
    "        mapper[i]=LabelEncoder()\n",
    "        mapper[i].classes_=np.load(str('classes'+i+'.npy'))\n",
    "        tr=mapper[i].fit_transform(new_df[i])\n",
    "        new_df.loc[:,i+'_labels']=pd.Series(tr,index=new_df.index)\n",
    "    labeled=new_df[['yearOfRegistration'\n",
    "                   ,'powerPS'\n",
    "                    ,'kilometer'\n",
    "                    ,'monthOfRegistration']\n",
    "                  +[x+'_labels' for x in labels]]\n",
    "    X=labeled.values\n",
    "    print(X)\n",
    "    y_prediction=model_rand.predict(X)\n",
    "    print(y_prediction)\n",
    "    return render_template('resalepredict.html',ypred='The resale value predicted is {:.2f}$'.format(y_predciton[0]))\n",
    "\n",
    "if __name__=='__main__':\n",
    "    app.run(host='localhost',debug=False,threaded=False)"
   ]
  },
  {
   "cell_type": "code",
   "execution_count": null,
   "metadata": {},
   "outputs": [],
   "source": []
  }
 ],
 "metadata": {
  "kernelspec": {
   "display_name": "Python 3",
   "language": "python",
   "name": "python3"
  },
  "language_info": {
   "codemirror_mode": {
    "name": "ipython",
    "version": 3
   },
   "file_extension": ".py",
   "mimetype": "text/x-python",
   "name": "python",
   "nbconvert_exporter": "python",
   "pygments_lexer": "ipython3",
   "version": "3.8.5"
  }
 },
 "nbformat": 4,
 "nbformat_minor": 4
}
